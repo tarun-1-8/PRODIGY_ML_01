{
 "cells": [
  {
   "cell_type": "markdown",
   "id": "1f6a6a9d",
   "metadata": {},
   "source": [
    "# 🏠 Task 01: House Price Prediction using Linear Regression\n",
    "\n",
    "This notebook is part of my internship at Prodigy InfoTech. The objective is to use Linear Regression to predict house prices using selected features from the Kaggle dataset."
   ]
  },
  {
   "cell_type": "code",
   "execution_count": null,
   "id": "83a80901",
   "metadata": {},
   "outputs": [],
   "source": [
    "import pandas as pd\n",
    "import numpy as np\n",
    "import matplotlib.pyplot as plt\n",
    "import seaborn as sns\n",
    "\n",
    "from sklearn.linear_model import LinearRegression\n",
    "from sklearn.model_selection import train_test_split\n",
    "from sklearn.metrics import mean_absolute_error, mean_squared_error, r2_score\n",
    "\n",
    "# Load dataset\n",
    "df = pd.read_csv('train.csv')\n",
    "df.head()"
   ]
  },
  {
   "cell_type": "code",
   "execution_count": null,
   "id": "9bcbec51",
   "metadata": {},
   "outputs": [],
   "source": [
    "# Select important features\n",
    "features = ['OverallQual', 'GrLivArea', 'GarageCars', 'TotalBsmtSF', 'YearBuilt', 'SalePrice']\n",
    "df_clean = df[features].dropna()\n",
    "df_clean.describe()"
   ]
  },
  {
   "cell_type": "code",
   "execution_count": null,
   "id": "09a2afb0",
   "metadata": {},
   "outputs": [],
   "source": [
    "# Define X and y\n",
    "X = df_clean.drop('SalePrice', axis=1)\n",
    "y = df_clean['SalePrice']\n",
    "\n",
    "# Train-test split\n",
    "X_train, X_test, y_train, y_test = train_test_split(X, y, test_size=0.2, random_state=42)\n",
    "\n",
    "# Model training\n",
    "model = LinearRegression()\n",
    "model.fit(X_train, y_train)"
   ]
  },
  {
   "cell_type": "code",
   "execution_count": null,
   "id": "149c2597",
   "metadata": {},
   "outputs": [],
   "source": [
    "# Predictions\n",
    "y_pred = model.predict(X_test)\n",
    "\n",
    "# Evaluation\n",
    "r2 = r2_score(y_test, y_pred)\n",
    "mae = mean_absolute_error(y_test, y_pred)\n",
    "mse = mean_squared_error(y_test, y_pred)\n",
    "\n",
    "print(f\"R² Score: {r2}\")\n",
    "print(f\"MAE: {mae}\")\n",
    "print(f\"MSE: {mse}\")"
   ]
  },
  {
   "cell_type": "code",
   "execution_count": null,
   "id": "fc0cdd79",
   "metadata": {},
   "outputs": [],
   "source": [
    "# Regression plot\n",
    "plt.figure(figsize=(8, 6))\n",
    "sns.scatterplot(x=y_test, y=y_pred, color='blue')\n",
    "plt.plot([y_test.min(), y_test.max()], [y_test.min(), y_test.max()], 'r--')\n",
    "plt.xlabel('Actual SalePrice')\n",
    "plt.ylabel('Predicted SalePrice')\n",
    "plt.title('Actual vs Predicted SalePrice')\n",
    "plt.grid(True)\n",
    "plt.show()"
   ]
  },
  {
   "cell_type": "code",
   "execution_count": null,
   "id": "d5825210",
   "metadata": {},
   "outputs": [],
   "source": [
    "# Residuals\n",
    "residuals = y_test - y_pred\n",
    "plt.figure(figsize=(8, 6))\n",
    "sns.histplot(residuals, kde=True, color='purple')\n",
    "plt.title(\"Distribution of Residuals\")\n",
    "plt.xlabel(\"Residuals\")\n",
    "plt.grid(True)\n",
    "plt.show()"
   ]
  }
 ],
 "metadata": {},
 "nbformat": 4,
 "nbformat_minor": 5
}